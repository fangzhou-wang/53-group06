{
 "cells": [
  {
   "cell_type": "code",
   "execution_count": null,
   "id": "9eea6132",
   "metadata": {},
   "outputs": [],
   "source": []
  },
  {
   "cell_type": "code",
   "execution_count": null,
   "id": "6fa8a696",
   "metadata": {},
   "outputs": [
    {
     "name": "stdout",
     "output_type": "stream",
     "text": [
      "Sampling completed, a total of 1012 records retained.\n",
      "Saved to: c:\\Users\\Administrator\\Desktop\\53-group06\\data\\processed-data\\food_subset_for_svm.csv\n"
     ]
    },
    {
     "name": "stderr",
     "output_type": "stream",
     "text": [
      "C:\\Users\\Administrator\\AppData\\Local\\Temp\\ipykernel_9476\\3363262925.py:19: DeprecationWarning: DataFrameGroupBy.apply operated on the grouping columns. This behavior is deprecated, and in a future version of pandas the grouping columns will be excluded from the operation. Either pass `include_groups=False` to exclude the groupings or explicitly select the grouping columns after groupby to silence this warning.\n",
      "  df_sampled = df.groupby(\"pnns_groups_1\", group_keys=False).apply(\n"
     ]
    }
   ],
   "source": [
    "import pandas as pd\n",
    "import os\n",
    "\n",
    "input_path = \"../../data/raw-data/food_sampled_cleaned.csv\"\n",
    "output_path = \"../../data/processed-data/food_subset_for_svm.csv\"\n",
    "\n",
    "# 抽样参数\n",
    "sample_frac = 0.01  \n",
    "min_samples_per_class = 10  # 每类最小样本数\n",
    "\n",
    "# 读取数据\n",
    "df = pd.read_csv(input_path)\n",
    "\n",
    "# 保留有类别的记录\n",
    "df = df[df[\"pnns_groups_1\"].notna()]\n",
    "\n",
    "# 分组抽样\n",
    "df_sampled = df.groupby(\"pnns_groups_1\", group_keys=False).apply(\n",
    "    lambda x: x.sample(frac=sample_frac, random_state=42)\n",
    "    if len(x) > min_samples_per_class else x\n",
    ").reset_index(drop=True)\n",
    "\n",
    "os.makedirs(os.path.dirname(output_path), exist_ok=True)\n",
    "df_sampled.to_csv(output_path, index=False)\n",
    "\n",
    "print(f\"Sampling completed, a total of {df_sampled.shape[0]} records retained.\")\n",
    "print(f\"Saved to: {os.path.abspath(output_path)}\")\n"
   ]
  },
  {
   "cell_type": "markdown",
   "id": "8f68586d",
   "metadata": {},
   "source": []
  }
 ],
 "metadata": {
  "kernelspec": {
   "display_name": "siruwpytorch",
   "language": "python",
   "name": "python3"
  },
  "language_info": {
   "codemirror_mode": {
    "name": "ipython",
    "version": 3
   },
   "file_extension": ".py",
   "mimetype": "text/x-python",
   "name": "python",
   "nbconvert_exporter": "python",
   "pygments_lexer": "ipython3",
   "version": "3.9.21"
  }
 },
 "nbformat": 4,
 "nbformat_minor": 5
}
